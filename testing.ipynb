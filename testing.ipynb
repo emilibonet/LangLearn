{
 "cells": [
  {
   "cell_type": "code",
   "execution_count": 1,
   "metadata": {},
   "outputs": [],
   "source": [
    "from Code.DataManagement.DataCollection import VocabularyCollector\n",
    "\n",
    "import os\n",
    "import json\n",
    "from selenium import webdriver\n",
    "from selenium.webdriver import Chrome \n",
    "from selenium.webdriver.chrome.service import Service \n",
    "from selenium.webdriver.common.by import By \n",
    "from webdriver_manager.chrome import ChromeDriverManager\n",
    "\n",
    "options = webdriver.ChromeOptions() \n",
    "options.add_argument('--headless') # it's more scalable to work in headless mode \n",
    "chrome_path = ChromeDriverManager().install() \n",
    "chrome_service = Service(chrome_path) \n",
    "try:\n",
    "    driver = Chrome(options=options, service=chrome_service) \n",
    "    # url = 'https://www.verbix.com/webverbix/go.php?D1=3&T1=avoir'\n",
    "    # url = 'https://www.verbix.com/webverbix/go.php?T1=collons'\n",
    "    url = 'https://www.larousse.fr/dictionnaires/francais/chose'\n",
    "    driver.get(url)\n",
    "    out = VocabularyCollector.fr_vocabulary_parser(driver, \"chose\")\n",
    "    raw = [x.text.split('\\n') for x in driver.find_elements(By.CLASS_NAME, \"DivisionDefinition\")]\n",
    "    # raw = [x.text.split('\\n') for x in driver.find_elements(By.CLASS_NAME, \"columns-main\")][0]\n",
    "    \n",
    "finally:\n",
    "    driver.close()"
   ]
  },
  {
   "cell_type": "code",
   "execution_count": 14,
   "metadata": {},
   "outputs": [
    {
     "data": {
      "text/plain": [
       "'/home/emili/Documents/Projects/Altres/Llengues/Material/french/.infinitives-500-frequent.json'"
      ]
     },
     "execution_count": 14,
     "metadata": {},
     "output_type": "execute_result"
    }
   ],
   "source": [
    "import os\n",
    "from glob import glob\n",
    "root_dir = '/home/emili/Documents/Projects/Altres/Llengues'\n",
    "glob(os.path.join(root_dir, \"Material/french/.infinitives*frequent.json\"))[0]"
   ]
  },
  {
   "cell_type": "code",
   "execution_count": 9,
   "metadata": {},
   "outputs": [],
   "source": [
    "def clear_line(n_lines:int):\n",
    "    LINE_UP, LINE_CLEAR = '\\033[1A', '\\x1b[2k'\n",
    "    for _ in range(n_lines):\n",
    "        print(LINE_UP, end=LINE_CLEAR)"
   ]
  },
  {
   "cell_type": "code",
   "execution_count": 25,
   "metadata": {},
   "outputs": [
    {
     "name": "stdout",
     "output_type": "stream",
     "text": [
      "\u001b[38;2;255;255;255mHello!\u001b[0m\n"
     ]
    }
   ],
   "source": [
    "hex_color = \"#FFFFFF\".lstrip('#')\n",
    "rgb_color = tuple(int(hex_color[i:i+2], 16) for i in (0, 2, 4))\n",
    "color_prefix, color_suffix = '\\033[38;2;{';'.join([str(x) for x in rgb_color])}m', '\\033[0m'\n",
    "print(f\"Hello!\")"
   ]
  },
  {
   "cell_type": "code",
   "execution_count": 24,
   "metadata": {},
   "outputs": [
    {
     "data": {
      "text/plain": [
       "(34, 34, 2)"
      ]
     },
     "execution_count": 24,
     "metadata": {},
     "output_type": "execute_result"
    }
   ],
   "source": [
    "rgb_color"
   ]
  },
  {
   "cell_type": "code",
   "execution_count": null,
   "metadata": {},
   "outputs": [],
   "source": []
  }
 ],
 "metadata": {
  "kernelspec": {
   "display_name": "base",
   "language": "python",
   "name": "python3"
  },
  "language_info": {
   "codemirror_mode": {
    "name": "ipython",
    "version": 3
   },
   "file_extension": ".py",
   "mimetype": "text/x-python",
   "name": "python",
   "nbconvert_exporter": "python",
   "pygments_lexer": "ipython3",
   "version": "3.10.12"
  },
  "orig_nbformat": 4
 },
 "nbformat": 4,
 "nbformat_minor": 2
}
